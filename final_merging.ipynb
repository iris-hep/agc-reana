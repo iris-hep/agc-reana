{
 "cells": [
  {
   "cell_type": "code",
   "execution_count": null,
   "metadata": {},
   "outputs": [],
   "source": [
    "import uproot\n",
    "import json\n",
    "import cabinetry\n",
    "import hist"
   ]
  },
  {
   "cell_type": "code",
   "execution_count": null,
   "metadata": {},
   "outputs": [],
   "source": [
    "def extract_samples_from_json(json_file):\n",
    "    output_files = []\n",
    "    with open(json_file, 'r') as fd:\n",
    "        data = json.load(fd)\n",
    "        for sample, conditions in data.items():\n",
    "            for condition in conditions:\n",
    "                sample_name = f\"everything_merged_{sample}__{condition}.root\"\n",
    "                output_files.append(sample_name)\n",
    "    return output_files\n",
    "json_file = \"nanoaod_inputs.json\"\n",
    "# LIST_OF_FILES_PER_SAMPLE is a list of 9 files containing histograms per sample\n",
    "LIST_OF_FILES_PER_SAMPLE = extract_samples_from_json(json_file)\n",
    "print(LIST_OF_FILES_PER_SAMPLE)\n",
    "with uproot.recreate(\"histograms.root\") as f_out:\n",
    "    for h_file in LIST_OF_FILES_PER_SAMPLE:\n",
    "        with uproot.open(h_file) as f_per_sample:\n",
    "            for key in f_per_sample.keys(cycle=False):\n",
    "                value = f_per_sample[key]\n",
    "                f_out[key] = value"
   ]
  },
  {
   "cell_type": "code",
   "execution_count": null,
   "metadata": {},
   "outputs": [],
   "source": [
    "import utils.rebinning  # noqa: E402\n",
    "\n",
    "cabinetry_config = cabinetry.configuration.load(\"cabinetry_config.yml\")\n",
    "\n",
    "# rebinning: lower edge 110 GeV, merge bins 2->1\n",
    "rebinning_router = utils.rebinning.get_cabinetry_rebinning_router(cabinetry_config, rebinning=slice(110j, None, hist.rebin(2)))\n",
    "cabinetry.templates.build(cabinetry_config, router=rebinning_router)\n",
    "cabinetry.templates.postprocess(cabinetry_config)  # optional post-processing (e.g. smoothing)\n",
    "ws = cabinetry.workspace.build(cabinetry_config)\n",
    "cabinetry.workspace.save(ws, \"workspace.json\")"
   ]
  },
  {
   "cell_type": "code",
   "execution_count": null,
   "metadata": {},
   "outputs": [],
   "source": [
    "!pyhf inspect workspace.json | head -n 20\n"
   ]
  }
 ],
 "metadata": {
  "language_info": {
   "name": "python"
  }
 },
 "nbformat": 4,
 "nbformat_minor": 2
}
